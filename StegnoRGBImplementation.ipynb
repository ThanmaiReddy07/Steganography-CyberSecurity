{
 "cells": [
  {
   "cell_type": "code",
   "execution_count": null,
   "id": "fcac9f73-d718-4c6c-ae4b-99ddd7129124",
   "metadata": {},
   "outputs": [],
   "source": [
    "#import library\n",
    "import cv2 #opencv image\n",
    "import numpy as np #array \n",
    "import string\n",
    "import os\n",
    "import matplotlib.pyplot as plt"
   ]
  },
  {
   "cell_type": "code",
   "execution_count": null,
   "id": "f00a34c0-dc7b-48b4-9a71-1495810be46d",
   "metadata": {},
   "outputs": [],
   "source": [
    "#ASCII CONVERSION\n",
    "d={chr(i):i for i in range(255)}  #character to ascii  \n",
    "c={i:chr(i) for i in range(255)}  #ascii to caharacter"
   ]
  },
  {
   "cell_type": "code",
   "execution_count": null,
   "id": "3333c1b5-f2ed-4b1e-a084-27107cc10a3b",
   "metadata": {},
   "outputs": [],
   "source": [
    "#Load the image\n",
    "image_path=r\"C:\\Users\\THANMAI REDDY\\Desktop\\AICTE INTERNSHIP - CyberSecurity\\IMAGE.png\"\n",
    "x=cv2.imread(image_path)\n",
    "xrgb=cv2.cvtColor(x,cv2.COLOR_BGR2RGB)\n",
    "plt.imshow(xrgb)\n",
    "plt.title(\"Original_Image\")\n",
    "plt.axis('off')\n",
    "plt.show()\n"
   ]
  },
  {
   "cell_type": "code",
   "execution_count": null,
   "id": "134f1c20-4781-4909-9806-d48b55ed4d56",
   "metadata": {},
   "outputs": [],
   "source": [
    "x.shape"
   ]
  },
  {
   "cell_type": "code",
   "execution_count": null,
   "id": "e4f572fa-f7bd-41de-965a-c4f62add60bb",
   "metadata": {},
   "outputs": [],
   "source": [
    "key=\"123\"\n",
    "text=\"secret\""
   ]
  },
  {
   "cell_type": "code",
   "execution_count": null,
   "id": "a2ec5036-d7ce-4ca0-a1f3-4baf15cc1fb8",
   "metadata": {},
   "outputs": [],
   "source": [
    "# ASCII Values\n",
    "text_ascii=[d[ch] for ch in text]  #list of ascii values of text characters\n",
    "key_ascii=[d[ch] for ch in key]    #list of ascii values of key\n",
    "print(text_ascii)\n",
    "print(key_ascii)"
   ]
  },
  {
   "cell_type": "code",
   "execution_count": null,
   "id": "e8cf7b31-a493-4baf-bd69-a4d4da89d98c",
   "metadata": {},
   "outputs": [],
   "source": [
    "#encrypt using pixel modelfication\n",
    "x_enc=x.copy()\n",
    "n=0  #number of rows\n",
    "m=0  #number of coloumns\n",
    "z=0  #colour panel\n",
    "l=len(text)\n",
    "kl=0\n",
    "for i in range(l):\n",
    "    orig_val=x_enc[n,m,z]\n",
    "    new_val=d[text[i]]^d[key[kl]]  #important\n",
    "    x_enc[n,m,z]=new_val\n",
    "    print(f\"Embedding '{text[i]}' (ASCII {d[text[i]]}) XOR '{key[kl]}' (ASCII {d[key[kl]]}) = {new_val} at pixel ({n},{m},{z}) [original={orig_val}]\")\n",
    "    n=n+1\n",
    "    m=m+1\n",
    "    m=(m+1)%3\n",
    "    z=(z+1)%3\n",
    "    kl=(kl+1)%len(key)\n",
    "    "
   ]
  },
  {
   "cell_type": "code",
   "execution_count": null,
   "id": "cf195afd-c25e-4f0a-ad96-c6ac7f3e6bd9",
   "metadata": {},
   "outputs": [],
   "source": [
    "cv2.imwrite(\"encrypt.jpg\",x_enc)"
   ]
  },
  {
   "cell_type": "code",
   "execution_count": null,
   "id": "3eba2d55-f332-4304-9370-ccc1bfee7a1e",
   "metadata": {},
   "outputs": [],
   "source": [
    "plt.imshow(cv2.cvtColor(x_enc,cv2.COLOR_BGR2RGB))\n",
    "plt.title(\"Encrypt_Image\")\n",
    "plt.axis('off')\n",
    "plt.show()"
   ]
  },
  {
   "cell_type": "code",
   "execution_count": null,
   "id": "a5ece3f6-8e8e-4bea-a792-06e37bb43734",
   "metadata": {},
   "outputs": [],
   "source": [
    "#Decrypt\n",
    "n,m,z=0,0,0\n",
    "kl=0\n",
    "decrypt=\"\"\n",
    "for i in range(l):\n",
    "    val=x_enc[n,m,z]\n",
    "    orig_char=c[val^d[key[kl]]]\n",
    "    decrypt=decrypt+orig_char\n",
    "\n",
    "    print(f\"Decrypting pixel ({n},{m},{z}): {val} XOR {d[key[kl]]} = {val ^ d[key[kl]]} -> '{orig_char}'\")\n",
    "\n",
    "    n=n+1\n",
    "    m=m+1\n",
    "    m=(m+1)%3\n",
    "    z=(z+1)%3\n",
    "    kl=(kl+1)%len(key)\n",
    "print(decrypt)\n",
    "    "
   ]
  },
  {
   "cell_type": "code",
   "execution_count": null,
   "id": "6c59c40b-cf67-4de7-b0f1-93bf8fcfd185",
   "metadata": {},
   "outputs": [],
   "source": []
  }
 ],
 "metadata": {
  "kernelspec": {
   "display_name": "Python 3",
   "language": "python",
   "name": "python3"
  },
  "language_info": {
   "codemirror_mode": {
    "name": "ipython",
    "version": 3
   },
   "file_extension": ".py",
   "mimetype": "text/x-python",
   "name": "python",
   "nbconvert_exporter": "python",
   "pygments_lexer": "ipython3",
   "version": "3.11.0"
  }
 },
 "nbformat": 4,
 "nbformat_minor": 5
}
